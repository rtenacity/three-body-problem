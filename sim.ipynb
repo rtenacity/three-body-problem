{
 "cells": [
  {
   "cell_type": "code",
   "execution_count": 1,
   "metadata": {},
   "outputs": [],
   "source": [
    "import numpy as np\n",
    "from scipy.integrate import solve_ivp\n",
    "import matplotlib.pyplot as plt\n",
    "import scipy.constants as const\n",
    "import autograd.numpy as anp\n",
    "import pandas as pd\n",
    "\n",
    "from autograd import grad"
   ]
  },
  {
   "cell_type": "markdown",
   "metadata": {},
   "source": [
    "$$\n",
    "H = \\sum_{i=1}^{N} \\frac{1}{2} m_i |\\mathbf{v}_i|^2 - \\sum_{i=1}^{N} \\sum_{j=i+1}^{N} \\frac{G m_i m_j}{r_{ij}}\n",
    "$$"
   ]
  },
  {
   "cell_type": "code",
   "execution_count": 3,
   "metadata": {},
   "outputs": [],
   "source": [
    "\n",
    "def T(state_vectors):\n",
    "    masses = anp.array([body.m for body in state_vectors], dtype=float)\n",
    "    velocities = anp.array([body.v for body in state_vectors], dtype=float)\n",
    "    T_total = anp.sum(0.5 * masses * anp.linalg.norm(velocities, axis=1) ** 2)\n",
    "    return T_total\n",
    "\n",
    "def V(state_vectors):\n",
    "    masses = anp.array([body.m for body in state_vectors], dtype=float)\n",
    "    positions = anp.array([body.r for body in state_vectors], dtype=float)\n",
    "    V_total = 0.0\n",
    "    num_bodies = len(state_vectors)\n",
    "    for i in range(num_bodies):\n",
    "        for j in range(i + 1, num_bodies):\n",
    "            r_ij = anp.linalg.norm(positions[i] - positions[j])\n",
    "            V_total -= masses[i] * masses[j] / r_ij\n",
    "    return V_total\n",
    "    \n",
    "def H(state_vectors):\n",
    "\n",
    "    H_total = T(state_vectors) + V(state_vectors)\n",
    "    \n",
    "    return H_total"
   ]
  },
  {
   "cell_type": "markdown",
   "metadata": {},
   "source": [
    "$$\n",
    "\\dot{\\mathbf{r}}_{i, 1}^{\\text{Ham}} = \\frac{\\partial H}{\\partial \\mathbf{p}_{i, 1}}= \\frac{1}{m_i}  \\frac{\\partial H}{\\partial\\mathbf{v}_{i, 1}^{\\text{pred}}}\n",
    "$$"
   ]
  },
  {
   "cell_type": "code",
   "execution_count": 4,
   "metadata": {},
   "outputs": [
    {
     "name": "stdout",
     "output_type": "stream",
     "text": [
      "Hamiltonian: 9996.292893218813\n",
      "Gradient of Hamiltonian w.r.t velocity:\n",
      "        Gradient X  Gradient Y  Gradient Z\n",
      "Body 0       100.0         0.0         0.0\n",
      "Body 1         0.0         1.0         0.0\n",
      "Body 2         0.0         0.0         1.0\n"
     ]
    }
   ],
   "source": [
    "def H_velocity_gradient(state_vectors):\n",
    "    def H_velocities(velocities_flat):\n",
    "        velocities = velocities_flat.reshape(len(state_vectors), 3)\n",
    "        temp_state_vectors = [StateVector(body.r[0], body.r[1], body.r[2],\n",
    "                                          velocities[i, 0], velocities[i, 1], velocities[i, 2],\n",
    "                                          body.a[0], body.a[1], body.a[2], body.m, body.t) \n",
    "                              for i, body in enumerate(state_vectors)]\n",
    "        return H(temp_state_vectors)\n",
    "\n",
    "    velocities_flat = anp.array([body.v for body in state_vectors], dtype=float).flatten()\n",
    "    grad_H = grad(H_velocities)\n",
    "    grad_values = grad_H(velocities_flat).reshape(len(state_vectors), 3)\n",
    "    masses = anp.array([body.m for body in state_vectors], dtype=float).reshape(-1, 1)\n",
    "    result = np.round(grad_values / masses, 10).astype(float)\n",
    "\n",
    "    df = pd.DataFrame(result, columns=['Gradient X', 'Gradient Y', 'Gradient Z'], index = [f'Body {i}' for i in range(len(state_vectors))])\n",
    "    \n",
    "    return df\n",
    "\n",
    "hamiltonian = H([body_one, body_two, body_three])\n",
    "print(\"Hamiltonian:\", hamiltonian)\n",
    "\n",
    "gradient = H_velocity_gradient([body_one, body_two, body_three])\n",
    "print(\"Gradient of Hamiltonian w.r.t velocity:\")\n",
    "print(gradient)"
   ]
  },
  {
   "cell_type": "markdown",
   "metadata": {},
   "source": [
    "$$\n",
    "  \\dot{\\mathbf{v}}_{i, 1}^{\\text{Ham}} = \\frac{\\dot{\\mathbf{p}}_{i, 1}}{m_i} = \\frac{-1}{m_i} \\frac{\\partial H}{\\partial \\mathbf{r}_{i, 1}^{\\text{pred}\n",
    "  }}\n",
    "$$"
   ]
  },
  {
   "cell_type": "code",
   "execution_count": 5,
   "metadata": {},
   "outputs": [
    {
     "name": "stdout",
     "output_type": "stream",
     "text": [
      "Gradient of Hamiltonian w.r.t position:\n",
      "        Gradient X  Gradient Y  Gradient Z\n",
      "Body 0    1.000000    1.000000        -0.0\n",
      "Body 1   -2.353553    0.353553        -0.0\n",
      "Body 2    0.353553   -2.353553        -0.0\n"
     ]
    }
   ],
   "source": [
    "def H_position_gradient(state_vectors):\n",
    "    def H_positions(positions_flat):\n",
    "        positions = positions_flat.reshape(len(state_vectors), 3)\n",
    "        temp_state_vectors = [StateVector(positions[i, 0], positions[i, 1], positions[i, 2],\n",
    "                                          body.v[0], body.v[1], body.v[2],\n",
    "                                          body.a[0], body.a[1], body.a[2], body.m, body.t) \n",
    "                              for i, body in enumerate(state_vectors)]\n",
    "        return H(temp_state_vectors)\n",
    "\n",
    "    positions_flat = anp.array([body.r for body in state_vectors], dtype=float).flatten()\n",
    "    grad_H = grad(H_positions)\n",
    "    grad_values = grad_H(positions_flat).reshape(len(state_vectors), 3)\n",
    "    masses = anp.array([body.m for body in state_vectors], dtype=float).reshape(-1, 1)\n",
    "    result = -anp.round(grad_values / masses, 10).astype(float)\n",
    "\n",
    "    df = pd.DataFrame(result, columns=['Gradient X', 'Gradient Y', 'Gradient Z'], index = [f'Body {i}' for i in range(len(state_vectors))])\n",
    "    \n",
    "    return df\n",
    "\n",
    "gradient = H_position_gradient([body_one, body_two, body_three])\n",
    "print(\"Gradient of Hamiltonian w.r.t position:\")\n",
    "print(gradient)"
   ]
  },
  {
   "cell_type": "markdown",
   "metadata": {},
   "source": [
    "$$\n",
    "   \\mathbf{p}_{i,\\frac{1}{2}}^{\\text{leapfrog}} = \\mathbf{p}_{i,0}^{\\text{true}} - \\frac{\\Delta t}{2} \\frac{\\partial V}{\\partial \\mathbf{r}_{i,0}^{\\text{true}}}.\n",
    "$$\n",
    "where $$\\mathbf{p}_{i,0}^{\\text{true}} = m_i\\mathbf{v}_{i,0}^{\\text{true}}$$\n",
    "\n",
    "$$\n",
    "\\mathbf{r}_{i,1}^{\\text{leapfrog}} = \\mathbf{r}_{i,0}^{\\text{true}} + \\Delta t \\, \\frac{\\mathbf{p}_{i,\\frac{1}{2}}^{\\text{leapfrog}}}{m_i}.\n",
    "$$\n",
    "\n",
    "$$\n",
    "\\mathbf{p}_{i,1}^{\\text{leapfrog}} = \\mathbf{p}_{i,\\frac{1}{2}}^{\\text{leapfrog}} - \\frac{\\Delta t}{2} \\frac{\\partial V}{\\partial \\mathbf{r}_{i,1}^{\\text{leapfrog}}}.\n",
    "$$"
   ]
  },
  {
   "cell_type": "code",
   "execution_count": 6,
   "metadata": {},
   "outputs": [
    {
     "name": "stdout",
     "output_type": "stream",
     "text": [
      "Gradient of Potential Energy w.r.t position:\n",
      "        Gradient X  Gradient Y  Gradient Z\n",
      "Body 0    2.000000    2.000000        -0.0\n",
      "Body 1   -2.353553    0.353553        -0.0\n",
      "Body 2    0.353553   -2.353553        -0.0\n"
     ]
    }
   ],
   "source": [
    "def V_position_gradient(state_vectors):\n",
    "    def V_positions(positions_flat):\n",
    "        positions = positions_flat.reshape(len(state_vectors), 3)\n",
    "        temp_state_vectors = [StateVector(positions[i, 0], positions[i, 1], positions[i, 2],\n",
    "                                          body.v[0], body.v[1], body.v[2],\n",
    "                                          body.a[0], body.a[1], body.a[2], body.m, body.t) \n",
    "                              for i, body in enumerate(state_vectors)]\n",
    "        return V(temp_state_vectors)\n",
    "\n",
    "    positions_flat = anp.array([body.r for body in state_vectors], dtype=float).flatten()\n",
    "    grad_V = grad(V_positions)\n",
    "    grad_values = grad_V(positions_flat).reshape(len(state_vectors), 3)\n",
    "    # masses = anp.array([body.m for body in state_vectors], dtype=float).reshape(-1, 1)\n",
    "    result = -anp.round(grad_values, 10).astype(float)\n",
    "\n",
    "    df = pd.DataFrame(result, columns=['Gradient X', 'Gradient Y', 'Gradient Z'], index = [f'Body {i}' for i in range(len(state_vectors))])\n",
    "    \n",
    "    return df\n",
    "\n",
    "gradient = V_position_gradient([body_one, body_two, body_three])\n",
    "print(\"Gradient of Potential Energy w.r.t position:\")\n",
    "print(gradient)"
   ]
  },
  {
   "cell_type": "code",
   "execution_count": 7,
   "metadata": {},
   "outputs": [
    {
     "name": "stdout",
     "output_type": "stream",
     "text": [
      "Initial state vectors:\n",
      "[0. 0. 0.]\n",
      "[1. 0. 0.]\n",
      "[0. 1. 0.]\n",
      "Updated state vectors:\n",
      "[ 4.99875e+00 -1.25000e-03  0.00000e+00]\n",
      "[1.00294194 0.04955806 0.        ]\n",
      "[-4.41941738e-04  1.00294194e+00  5.00000000e-02]\n"
     ]
    }
   ],
   "source": [
    "def leapfrog_update(state_vectors, dt):\n",
    "    p_0_true = anp.array([body.m * body.v for body in state_vectors], dtype=float)\n",
    "    r_0_true = anp.array([body.r for body in state_vectors], dtype=float)\n",
    "    mass_vector = anp.array([body.m for body in state_vectors], dtype=float)\n",
    "\n",
    "    # Compute gradient of potential energy w.r.t. position (force)\n",
    "    gradient_V_0 = V_position_gradient(state_vectors).values\n",
    "    p_leapfrog_one_half = p_0_true - (0.5 * dt * gradient_V_0)\n",
    "\n",
    "    r_leapfrog_one = r_0_true + dt * (p_leapfrog_one_half / mass_vector[:, None])\n",
    "    for i, body in enumerate(state_vectors):\n",
    "        body.r = r_leapfrog_one[i]\n",
    "        \n",
    "    \n",
    "    gradient_V_1 = V_position_gradient(state_vectors).values\n",
    "    p_leapfrog_one = p_leapfrog_one_half - (0.5 * dt * gradient_V_1)\n",
    "    for i, body in enumerate(state_vectors):\n",
    "        body.r = r_leapfrog_one[i]\n",
    "        body.v = p_leapfrog_one[i] / body.m\n",
    "        body.s = anp.array([body.r, body.v, gradient_V_1[i]], dtype=float)  # Store latest state\n",
    "\n",
    "    return state_vectors\n",
    "\n",
    "\n",
    "body_one = StateVector(0, 0, 0, 100, 0, 0, 0, 0, 0, 2, 0)\n",
    "body_two = StateVector(1, 0, 0, 0, 1, 0, 0, 0, 0, 1, 0)\n",
    "body_three = StateVector(0, 1, 0, 0, 0, 1, 0, 0, 0, 1, 0)\n",
    "\n",
    "print(\"Initial state vectors:\")\n",
    "for body in [body_one, body_two, body_three]:\n",
    "    print(body.r)\n",
    "\n",
    "state_vector_updated = leapfrog_update([body_one, body_two, body_three], 0.05)\n",
    "\n",
    "print(\"Updated state vectors:\")\n",
    "for body in state_vector_updated:\n",
    "    print(body.r)"
   ]
  }
 ],
 "metadata": {
  "kernelspec": {
   "display_name": "Python 3",
   "language": "python",
   "name": "python3"
  },
  "language_info": {
   "codemirror_mode": {
    "name": "ipython",
    "version": 3
   },
   "file_extension": ".py",
   "mimetype": "text/x-python",
   "name": "python",
   "nbconvert_exporter": "python",
   "pygments_lexer": "ipython3",
   "version": "3.11.7"
  }
 },
 "nbformat": 4,
 "nbformat_minor": 2
}
