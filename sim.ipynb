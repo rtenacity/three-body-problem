{
 "cells": [
  {
   "cell_type": "code",
   "execution_count": 112,
   "metadata": {},
   "outputs": [],
   "source": [
    "import numpy as np\n",
    "from scipy.integrate import solve_ivp\n",
    "import matplotlib.pyplot as plt\n",
    "import scipy.constants as const\n",
    "import autograd.numpy as anp\n",
    "import pandas as pd\n",
    "\n",
    "from autograd import grad"
   ]
  },
  {
   "cell_type": "code",
   "execution_count": 113,
   "metadata": {},
   "outputs": [],
   "source": [
    "class StateVector:\n",
    "    def __init__(self, x, y, z, vx, vy, vz, ax, ay, az, m):\n",
    "        self.r = anp.array([x, y, z], dtype=float)\n",
    "        for i in range(3):\n",
    "            if self.r[i] == 0:\n",
    "                self.r[i] = 1e-10\n",
    "        self.v = anp.array([vx, vy, vz], dtype=float)\n",
    "        for i in range(3):\n",
    "            if self.v[i] == 0:\n",
    "                self.v[i] = 1e-10  # Avoid zero velocities\n",
    "\n",
    "        self.a = anp.array([ax, ay, az], dtype=float)\n",
    "        \n",
    "        for i in range(3):\n",
    "            if self.a[i] == 0:\n",
    "                self.a[i] = 1e-10\n",
    "        self.m = float(m)\n",
    "        self.s = anp.array([self.r, self.v, self.a], dtype=float)\n",
    "        \n",
    "# Initialize bodies\n",
    "body_one = StateVector(0, 0, 0, 100, 0, 0, 0, 0, 0, 2)\n",
    "body_two = StateVector(1, 0, 0, 0, 1, 0, 0, 0, 0, 1)"
   ]
  },
  {
   "cell_type": "markdown",
   "metadata": {},
   "source": [
    "$$\n",
    "H = \\sum_{i=1}^{N} \\frac{1}{2} m_i |\\mathbf{v}_i|^2 - \\sum_{i=1}^{N} \\sum_{j=i+1}^{N} \\frac{G m_i m_j}{r_{ij}}\n",
    "$$"
   ]
  },
  {
   "cell_type": "code",
   "execution_count": 114,
   "metadata": {},
   "outputs": [],
   "source": [
    "\n",
    "def T(state_vectors):\n",
    "    masses = anp.array([body.m for body in state_vectors], dtype=float)\n",
    "    velocities = anp.array([body.v for body in state_vectors], dtype=float)\n",
    "    T_total = anp.sum(0.5 * masses * anp.linalg.norm(velocities, axis=1) ** 2)\n",
    "    return T_total\n",
    "\n",
    "def V(state_vectors):\n",
    "    masses = anp.array([body.m for body in state_vectors], dtype=float)\n",
    "    positions = anp.array([body.r for body in state_vectors], dtype=float)\n",
    "    V_total = 0.0\n",
    "    num_bodies = len(state_vectors)\n",
    "    for i in range(num_bodies):\n",
    "        for j in range(i + 1, num_bodies):\n",
    "            r_ij = anp.linalg.norm(positions[i] - positions[j])\n",
    "            V_total -= masses[i] * masses[j] / r_ij\n",
    "    return V_total\n",
    "    \n",
    "def H(state_vectors):\n",
    "\n",
    "    H_total = T(state_vectors) + V(state_vectors)\n",
    "    \n",
    "    return H_total"
   ]
  },
  {
   "cell_type": "markdown",
   "metadata": {},
   "source": [
    "$$\n",
    "\\dot{\\mathbf{r}}_{i, 1}^{\\text{Ham}} = \\frac{\\partial H}{\\partial \\mathbf{p}_{i, 1}}= \\frac{1}{m_i}  \\frac{\\partial H}{\\partial\\mathbf{v}_{i, 1}^{\\text{pred}}}\n",
    "$$"
   ]
  },
  {
   "cell_type": "code",
   "execution_count": 115,
   "metadata": {},
   "outputs": [
    {
     "name": "stdout",
     "output_type": "stream",
     "text": [
      "Hamiltonian: 9998.4999999998\n",
      "Gradient of Hamiltonian w.r.t velocity:\n",
      "          Gradient X    Gradient Y    Gradient Z\n",
      "Body 0  1.000000e+02  1.000000e-10  1.000000e-10\n",
      "Body 1  1.000000e-10  1.000000e+00  1.000000e-10\n"
     ]
    }
   ],
   "source": [
    "def H_velocity_gradient(state_vectors):\n",
    "    def H_velocities(velocities_flat):\n",
    "        velocities = velocities_flat.reshape(len(state_vectors), 3)\n",
    "        temp_state_vectors = [StateVector(body.r[0], body.r[1], body.r[2],\n",
    "                                          velocities[i, 0], velocities[i, 1], velocities[i, 2],\n",
    "                                          body.a[0], body.a[1], body.a[2], body.m) \n",
    "                              for i, body in enumerate(state_vectors)]\n",
    "        return H(temp_state_vectors)\n",
    "\n",
    "    velocities_flat = anp.array([body.v for body in state_vectors], dtype=float).flatten()\n",
    "    grad_H = grad(H_velocities)\n",
    "    grad_values = grad_H(velocities_flat).reshape(len(state_vectors), 3)\n",
    "    masses = anp.array([body.m for body in state_vectors], dtype=float).reshape(-1, 1)\n",
    "    result = np.round(grad_values / masses, 10).astype(float)\n",
    "\n",
    "    df = pd.DataFrame(result, columns=['Gradient X', 'Gradient Y', 'Gradient Z'], index = [f'Body {i}' for i in range(len(state_vectors))])\n",
    "    \n",
    "    return df\n",
    "\n",
    "hamiltonian = H([body_one, body_two])\n",
    "print(\"Hamiltonian:\", hamiltonian)\n",
    "\n",
    "gradient = H_velocity_gradient([body_one, body_two])\n",
    "print(\"Gradient of Hamiltonian w.r.t velocity:\")\n",
    "print(gradient)"
   ]
  },
  {
   "cell_type": "markdown",
   "metadata": {},
   "source": [
    "$$\n",
    "  \\dot{\\mathbf{v}}_{i, 1}^{\\text{Ham}} = \\frac{\\dot{\\mathbf{p}}_{i, 1}}{m_i} = \\frac{-1}{m_i} \\frac{\\partial H}{\\partial \\mathbf{r}_{i, 1}^{\\text{pred}\n",
    "  }}\n",
    "$$"
   ]
  },
  {
   "cell_type": "code",
   "execution_count": 116,
   "metadata": {},
   "outputs": [
    {
     "name": "stdout",
     "output_type": "stream",
     "text": [
      "Gradient of Hamiltonian w.r.t position:\n",
      "        Gradient X  Gradient Y  Gradient Z\n",
      "Body 0         1.0        -0.0        -0.0\n",
      "Body 1        -2.0        -0.0        -0.0\n"
     ]
    }
   ],
   "source": [
    "def H_position_gradient(state_vectors):\n",
    "    def H_positions(positions_flat):\n",
    "        positions = positions_flat.reshape(len(state_vectors), 3)\n",
    "        temp_state_vectors = [StateVector(positions[i, 0], positions[i, 1], positions[i, 2],\n",
    "                                          body.v[0], body.v[1], body.v[2],\n",
    "                                          body.a[0], body.a[1], body.a[2], body.m) \n",
    "                              for i, body in enumerate(state_vectors)]\n",
    "        return H(temp_state_vectors)\n",
    "\n",
    "    positions_flat = anp.array([body.r for body in state_vectors], dtype=float).flatten()\n",
    "    grad_H = grad(H_positions)\n",
    "    grad_values = grad_H(positions_flat).reshape(len(state_vectors), 3)\n",
    "    masses = anp.array([body.m for body in state_vectors], dtype=float).reshape(-1, 1)\n",
    "    result = -anp.round(grad_values / masses, 10).astype(float)\n",
    "\n",
    "    df = pd.DataFrame(result, columns=['Gradient X', 'Gradient Y', 'Gradient Z'], index = [f'Body {i}' for i in range(len(state_vectors))])\n",
    "    \n",
    "    return df\n",
    "\n",
    "gradient = H_position_gradient([body_one, body_two])\n",
    "print(\"Gradient of Hamiltonian w.r.t position:\")\n",
    "print(gradient)"
   ]
  },
  {
   "cell_type": "code",
   "execution_count": 120,
   "metadata": {},
   "outputs": [
    {
     "name": "stdout",
     "output_type": "stream",
     "text": [
      "Gradient of Potential Energy w.r.t position:\n",
      "        Gradient X  Gradient Y  Gradient Z\n",
      "Body 0         2.0        -0.0        -0.0\n",
      "Body 1        -2.0        -0.0        -0.0\n"
     ]
    }
   ],
   "source": [
    "def V_position_gradient(state_vectors):\n",
    "    def V_positions(positions_flat):\n",
    "        positions = positions_flat.reshape(len(state_vectors), 3)\n",
    "        temp_state_vectors = [StateVector(positions[i, 0], positions[i, 1], positions[i, 2],\n",
    "                                          body.v[0], body.v[1], body.v[2],\n",
    "                                          body.a[0], body.a[1], body.a[2], body.m) \n",
    "                              for i, body in enumerate(state_vectors)]\n",
    "        return V(temp_state_vectors)\n",
    "\n",
    "    positions_flat = anp.array([body.r for body in state_vectors], dtype=float).flatten()\n",
    "    grad_V = grad(V_positions)\n",
    "    grad_values = grad_V(positions_flat).reshape(len(state_vectors), 3)\n",
    "    # masses = anp.array([body.m for body in state_vectors], dtype=float).reshape(-1, 1)\n",
    "    result = -anp.round(grad_values, 10).astype(float)\n",
    "\n",
    "    df = pd.DataFrame(result, columns=['Gradient X', 'Gradient Y', 'Gradient Z'], index = [f'Body {i}' for i in range(len(state_vectors))])\n",
    "    \n",
    "    return df\n",
    "\n",
    "gradient = V_position_gradient([body_one, body_two])\n",
    "print(\"Gradient of Potential Energy w.r.t position:\")\n",
    "print(gradient)"
   ]
  }
 ],
 "metadata": {
  "kernelspec": {
   "display_name": "Python 3",
   "language": "python",
   "name": "python3"
  },
  "language_info": {
   "codemirror_mode": {
    "name": "ipython",
    "version": 3
   },
   "file_extension": ".py",
   "mimetype": "text/x-python",
   "name": "python",
   "nbconvert_exporter": "python",
   "pygments_lexer": "ipython3",
   "version": "3.11.7"
  }
 },
 "nbformat": 4,
 "nbformat_minor": 2
}
